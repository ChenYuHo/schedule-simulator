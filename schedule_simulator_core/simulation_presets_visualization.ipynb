{
 "cells": [
  {
   "cell_type": "markdown",
   "metadata": {},
   "source": [
    "# Visualizing the results of schedulers simulation"
   ]
  },
  {
   "cell_type": "markdown",
   "metadata": {},
   "source": [
    "## Define needed functions and variables"
   ]
  },
  {
   "cell_type": "code",
   "execution_count": 1,
   "metadata": {
    "ExecuteTime": {
     "end_time": "2019-07-09T12:30:30.495693Z",
     "start_time": "2019-07-09T12:30:29.542648Z"
    },
    "hide_input": false
   },
   "outputs": [],
   "source": [
    "import matplotlib.pyplot as plt\n",
    "import sys\n",
    "import json\n",
    "import numpy as np\n",
    "import numpy.random as random\n",
    "import itertools\n",
    "sys.path.append('../')  # Include parent directory in module search\n",
    "sys.path.append('../../')\n",
    "from schedule_simulator_core.core import Distribution\n",
    "from schedule_simulator_core.simulation_presets import GpuNetworkSim\n",
    "from schedule_simulator_core.schedulers import FIFOScheduler, TopologicalPriorityScheduler\n",
    "from schedule_simulator_core.DAGs import serialize_dag, deserialize_dag, HomogeneousLinearDAG, \\\n",
    "LinearDag, LayerFactory\n",
    "from model_extraction.keras_model_extractor import apply_timing_profile_to_dag, keras_model_to_DAG"
   ]
  },
  {
   "cell_type": "markdown",
   "metadata": {},
   "source": [
    "#### Define schedulers"
   ]
  },
  {
   "cell_type": "code",
   "execution_count": 2,
   "metadata": {
    "ExecuteTime": {
     "end_time": "2019-07-09T12:30:30.499061Z",
     "start_time": "2019-07-09T12:30:30.497017Z"
    }
   },
   "outputs": [],
   "source": [
    "schedulers = [FIFOScheduler(), TopologicalPriorityScheduler(preemptive=False),\n",
    "              TopologicalPriorityScheduler(preemptive=True)]"
   ]
  },
  {
   "cell_type": "markdown",
   "metadata": {},
   "source": [
    "#### Define custom metrics"
   ]
  },
  {
   "cell_type": "code",
   "execution_count": 3,
   "metadata": {
    "ExecuteTime": {
     "end_time": "2019-07-09T12:30:30.561048Z",
     "start_time": "2019-07-09T12:30:30.501034Z"
    }
   },
   "outputs": [],
   "source": [
    "def comp_to_comm_ratio(results):\n",
    "    \"\"\"\n",
    "    The total computational units executed / total communication units executed in all of the simulation.\n",
    "    This is dependent on the dag as well as the number of batches.\n",
    "    It is also dependent on the rates however we are making them a constant 1 for now\n",
    "    \"\"\"\n",
    "    return list((np.array(results[\"comp_units.sum\"]) * np.array(results[\"batch_size\"]))\n",
    "           / np.array(results[\"comm_units.sum\"]))\n",
    "\n",
    "def normalize_over(results, stat_to_normalize, grouping_stat, reference_grouping_stat_value, reverse=False):\n",
    "    grouping_stat_indices = dict()\n",
    "    for i, grouping_stat_value in enumerate(results[grouping_stat]):\n",
    "        if grouping_stat_value in grouping_stat_indices:\n",
    "            grouping_stat_indices[grouping_stat_value].append(i)\n",
    "        else:\n",
    "            grouping_stat_indices[grouping_stat_value] = [i]\n",
    "    reference_indices = grouping_stat_indices[reference_grouping_stat_value]\n",
    "    normalized_stat = [0 for _ in range(len(results[stat_to_normalize]))]\n",
    "    for group_indices in grouping_stat_indices.values():\n",
    "        for i, ii in enumerate(group_indices):\n",
    "            if reverse:\n",
    "                normalized_stat[ii] = results[stat_to_normalize][reference_indices[i]] / results[stat_to_normalize][ii]\n",
    "            else:\n",
    "                normalized_stat[ii] = results[stat_to_normalize][ii] / results[stat_to_normalize][reference_indices[i]]\n",
    "    return normalized_stat\n",
    "\n",
    "def network_scheduler_speedup_over_fifo(results):\n",
    "    \"\"\"\n",
    "    Total time of fifo scheduler / total time of other scheduler\n",
    "    \"\"\"\n",
    "    return normalize_over(results, \"total_time_steps\", \"network_scheduler\", \"FIFOScheduler\", reverse=True)\n",
    "\n",
    "def format_variable(results, variable_name, format_str):\n",
    "    formatted_variable = list()\n",
    "    for value in results[variable_name]:\n",
    "        formatted_variable.append(format_str.format(value))\n",
    "    return formatted_variable"
   ]
  },
  {
   "cell_type": "markdown",
   "metadata": {
    "ExecuteTime": {
     "end_time": "2019-07-01T12:16:33.351574Z",
     "start_time": "2019-07-01T12:16:33.348331Z"
    }
   },
   "source": [
    "#### Visualization function"
   ]
  },
  {
   "cell_type": "code",
   "execution_count": 4,
   "metadata": {
    "ExecuteTime": {
     "end_time": "2019-07-09T12:30:30.624439Z",
     "start_time": "2019-07-09T12:30:30.567887Z"
    }
   },
   "outputs": [],
   "source": [
    "from schedule_simulator_core.utils import trim\n",
    "def line_plot_grid(results, x, y, line_variable=None, row_variable=None, column_variable=None,\n",
    "                   annotation_variable=None, annotation_only_for_line_groups=None, annotation_step=1,\n",
    "                   title=None, save=False, subplot_size=None, label_length=20):\n",
    "    \"\"\"\n",
    "    This method helps visualize up to 6 variables at once using a simple grid of line_plots.\n",
    "    :param results: The simulation group results dictionary. Should be in the format of\n",
    "    dict(key=variable_name, value=list_of_variable_values_in_all_simulations)\n",
    "    :param x: the variable name to represent on the x axis\n",
    "    :param y: the variable name to represent on the y axis\n",
    "    :param annotation_variable: The variable name to annotate the x,y points with\n",
    "    :param line_variable: The variable name to use to differentiate between different lines with\n",
    "    or None to plot all data using one line. Should be used with discrete variables\n",
    "    :param row_variable: The variable name to use to differentiate between different subplots in a row\n",
    "    or None to plot all data using one row. Should be used with discrete variables\n",
    "    :param column_variable: The variable name to use to differentiate between different subplots in a column\n",
    "    or None to plot all data using one column. Should be used with discrete variables\n",
    "    Basically the line,row and column variables are used to create groups of data which is why they should be\n",
    "    discrete. There is no current support for grouping continuous data so if they are passed a continues\n",
    "    variable, each value will be treated as its own group. The three variables can also be passed a tuple\n",
    "    (variable_name, [list_of_values]) to only plot specific groups or specific values of that variable.\n",
    "    :param annotation_only_for_line_values: A list of the line groups that we should annotate. If set to None\n",
    "    then all line groups will be annotated\n",
    "    :param annotation_step: Should we annotate each xy point? or should we skip some?\n",
    "    :param title: The title of the graph displayed above\n",
    "    :param save: Whether we should save this plot to a file or not\n",
    "    :param subplot_size: The size in (width, height) of a single subplot (cell) in the grid\n",
    "    \"\"\"\n",
    "    group_variables = dict(r=row_variable, c=column_variable, l=line_variable)\n",
    "    groups = dict()\n",
    "    # Add prespecified groups if they exist\n",
    "    group_variables_prespecified_groups = dict()\n",
    "    for key,value in group_variables.items():\n",
    "        if isinstance(value, tuple):\n",
    "            # Did we get a tuple with an already specified list of groups ?\n",
    "            groups[key] = tuple(value[1])\n",
    "            group_variables[key] = value[0]\n",
    "    # Generate variable groups if they haven't already been specified\n",
    "    for key,value in group_variables.items():\n",
    "        # If key is already in groups that means a prespecified group was passed no need to generate\n",
    "        if key in groups:\n",
    "            continue\n",
    "        # If value is None then we do not want to generate groups for this variable\n",
    "        if value is None:\n",
    "            groups[key] = (None,)\n",
    "            continue\n",
    "        groups[key] = set()\n",
    "        for value in results[value]:\n",
    "            groups[key].add(value)\n",
    "        groups[key] = list(groups[key])\n",
    "        groups[key].sort()\n",
    "        groups[key] = tuple(groups[key])\n",
    "    # Generate all possible combinations of the above groups\n",
    "    groups_combinations = list(itertools.product(groups[\"r\"], groups[\"c\"], groups[\"l\"]))\n",
    "    results_grouped_indices = dict()\n",
    "    for combination in groups_combinations:\n",
    "        results_grouped_indices[combination] = list()\n",
    "    # Add each record index to its respected group\n",
    "    for i in range(len(results[x])):\n",
    "        group = list()\n",
    "        for group_variable in group_variables.values():\n",
    "            if group_variable is None:\n",
    "                group.append(None)\n",
    "            else:\n",
    "                group.append(results[group_variable][i])\n",
    "        # Do we want to record this group ?\n",
    "        group_key = tuple(group)\n",
    "        if group_key in results_grouped_indices:\n",
    "            results_grouped_indices[group_key].append(i)\n",
    "    # Start plotting\n",
    "    if subplot_size is None:\n",
    "        subplot_size = (5,5)\n",
    "    figsize = subplot_size[0]*len(groups[\"r\"]), subplot_size[1]*len(groups[\"c\"])\n",
    "    figure = plt.figure(figsize=figsize)\n",
    "    subplot_i = 1\n",
    "    for column_group in groups[\"c\"]:\n",
    "        for row_group in groups[\"r\"]:\n",
    "            plt.subplot(len(groups[\"c\"]), len(groups[\"r\"]), subplot_i)\n",
    "            sub_title = \"\"\n",
    "            if row_group is not None:\n",
    "                sub_title += \"{}: {} \".format(\n",
    "                    trim(group_variables[\"r\"],label_length//2),\n",
    "                    trim(row_group,label_length//2))\n",
    "            if column_group is not None:\n",
    "                sub_title += \"{}: {} \".format(\n",
    "                    trim(group_variables[\"c\"],label_length//2),\n",
    "                    trim(column_group,label_length//2))\n",
    "            plt.title(sub_title)\n",
    "            has_annotated = False\n",
    "            for line_group in groups[\"l\"]:\n",
    "                # We want to get all x,y data that matches the current row,column,line group\n",
    "                filtered_x = [results[x][record_i] for record_i in \n",
    "                              results_grouped_indices[(row_group, column_group, line_group)]]\n",
    "                filtered_y = [results[y][record_i] for record_i in \n",
    "                              results_grouped_indices[(row_group, column_group, line_group)]]\n",
    "                plt.plot(filtered_x, filtered_y, marker=\"o\", label=trim(line_group,label_length))\n",
    "                if annotation_variable is not None and \\\n",
    "                (annotation_only_for_line_groups is None or line_group in annotation_only_for_line_groups):\n",
    "                    filtered_annotations = [results[annotation_variable][record_i] for record_i in \n",
    "                                            results_grouped_indices[(row_group, column_group, line_group)]]\n",
    "                    for i in range(0, len(filtered_annotations), annotation_step):\n",
    "                        plt.annotate(filtered_annotations[i], (filtered_x[i], filtered_y[i]))\n",
    "                    has_annotated = True\n",
    "            if has_annotated:\n",
    "                plt.plot([], [], ' ', label=trim(\"Annot: {}\".format(annotation_variable), label_length))\n",
    "            if line_group is not None or has_annotated:\n",
    "                plt.legend()\n",
    "            plt.xlabel(x)\n",
    "            plt.ylabel(y)\n",
    "            subplot_i += 1\n",
    "    if title is not None:\n",
    "        plt.suptitle(title)\n",
    "    if save:\n",
    "        plt.savefig(\"{}.png\".format(title))\n",
    "    return figure"
   ]
  },
  {
   "cell_type": "markdown",
   "metadata": {},
   "source": [
    "## VGG16 simulation\n",
    "\n",
    "Run simulation"
   ]
  },
  {
   "cell_type": "code",
   "execution_count": 9,
   "metadata": {
    "ExecuteTime": {
     "end_time": "2019-07-09T12:32:56.835985Z",
     "start_time": "2019-07-09T12:32:36.406659Z"
    },
    "scrolled": false
   },
   "outputs": [
    {
     "name": "stdout",
     "output_type": "stream",
     "text": [
      "Resolution: 10.0\n",
      "Resolution inflicted zeros: fp_units: 11.76% bp_units: 5.88% comm_units: 31.55%\n",
      "Constant arguments: {'dag', 'gpu_rate', 'n_of_batches', 'gpu_scheduler'}\n",
      "Variable arguments: {'network_scheduler', 'network_rate', 'batch_size'}\n",
      "----------------------------------------------------------------------------------------------------\n",
      "Simulations Finished: 132/132\n",
      "pid                 : 25881      25884      \n",
      "sim_index           : 131        127        \n",
      "sims_finished       : 69         63         \n",
      "gpu_rate            : 1          1          \n",
      "network_rate        : 0.199999.. 0.199999.. \n",
      "gpu_scheduler       : FIFOSche.. FIFOSche.. \n",
      "network_scheduler   : Topologi.. Topologi.. \n",
      "dag                 : {'name':.. {'name':.. \n",
      "batch_size          : 32         32         \n",
      "n_of_batches        : 8          8          \n",
      "pid[25423] Main process is saving and returning results\n"
     ]
    }
   ],
   "source": [
    "# Load VGG16 Dag\n",
    "with open(\"../../model_extraction/dags/VGG16.dag\") as dag_file:\n",
    "    base_dag = deserialize_dag(dag_file.read())\n",
    "\n",
    "bandwidths = list(np.arange(0.10,0.21,0.01))\n",
    "summary = GpuNetworkSim.run_group(gpu_rate=1,\n",
    "                                  network_rate= bandwidths,\n",
    "                                  gpu_scheduler=FIFOScheduler(),\n",
    "                                  dag=base_dag,\n",
    "                                  network_scheduler=schedulers,\n",
    "                                  batch_size=[1,4,16,32],\n",
    "                                  n_of_batches=8,\n",
    "                                  resolution=1e1,\n",
    "                                  resolution_warning_threshold = 0.5,\n",
    "                                  number_of_processes=None,\n",
    "                                 )"
   ]
  },
  {
   "cell_type": "markdown",
   "metadata": {},
   "source": [
    "compute custom metrics"
   ]
  },
  {
   "cell_type": "code",
   "execution_count": null,
   "metadata": {
    "ExecuteTime": {
     "end_time": "2019-07-09T12:19:10.276352Z",
     "start_time": "2019-07-09T12:19:06.309Z"
    },
    "scrolled": false
   },
   "outputs": [],
   "source": [
    "summary[\"results\"][\"comp_to_comm_ratio\"] = comp_to_comm_ratio(summary[\"results\"])\n",
    "summary[\"results\"][\"speedup_over_fifo\"] = network_scheduler_speedup_over_fifo(summary[\"results\"])"
   ]
  },
  {
   "cell_type": "code",
   "execution_count": null,
   "metadata": {
    "ExecuteTime": {
     "end_time": "2019-07-09T12:19:10.277748Z",
     "start_time": "2019-07-09T12:19:06.310Z"
    }
   },
   "outputs": [],
   "source": [
    "summary[\"results\"][\"Bandwidth(Gbps)\"] = format_variable(summary[\"results\"],\"comm_units_scaling_rate\", \"{:.3f}\")"
   ]
  },
  {
   "cell_type": "markdown",
   "metadata": {},
   "source": [
    "File IO"
   ]
  },
  {
   "cell_type": "code",
   "execution_count": null,
   "metadata": {
    "ExecuteTime": {
     "end_time": "2019-07-09T12:19:10.280457Z",
     "start_time": "2019-07-09T12:19:06.312Z"
    },
    "scrolled": false
   },
   "outputs": [],
   "source": [
    "# Store simulations results to file\n",
    "from datetime import datetime\n",
    "file_prefix = \"VGG16_{}\".format(datetime.now().strftime(\"%m-%d-%H-%M\"))\n",
    "with open(\"{}.sims.json\".format(file_prefix), \"w\") as file:\n",
    "    json.dump(summary, file, indent=4)"
   ]
  },
  {
   "cell_type": "code",
   "execution_count": null,
   "metadata": {
    "ExecuteTime": {
     "end_time": "2019-07-09T12:19:10.282130Z",
     "start_time": "2019-07-09T12:19:06.314Z"
    }
   },
   "outputs": [],
   "source": [
    "# Load simulations results from file if it exists already.\n",
    "file_prefix = \"VGG16_07-07-07-39\"\n",
    "with open(\"{}.sims.json\".format(file_prefix)) as file:\n",
    "    summary = json.load(file)"
   ]
  },
  {
   "cell_type": "code",
   "execution_count": null,
   "metadata": {
    "ExecuteTime": {
     "end_time": "2019-07-09T12:19:10.283748Z",
     "start_time": "2019-07-09T12:19:06.316Z"
    }
   },
   "outputs": [],
   "source": [
    "targets = [\"gpu_util\",\"net_util\", \"speedup_over_fifo\"]"
   ]
  },
  {
   "cell_type": "markdown",
   "metadata": {},
   "source": [
    "Visualize vs comp_comm_ratio"
   ]
  },
  {
   "cell_type": "code",
   "execution_count": null,
   "metadata": {
    "ExecuteTime": {
     "end_time": "2019-07-09T12:19:10.295563Z",
     "start_time": "2019-07-09T12:19:06.318Z"
    }
   },
   "outputs": [],
   "source": [
    "from matplotlib.backends.backend_pdf import PdfPages\n",
    "file = PdfPages(\"{}_visualizaton.pdf\".format(file_prefix))\n",
    "for y in targets:\n",
    "    f = line_plot_grid(summary[\"results\"], title=\"{}_{}\".format(file_prefix, y), save=False,\n",
    "                   x=\"comp_to_comm_ratio\",\n",
    "                   y=y,\n",
    "                   line_variable=\"network_scheduler\",\n",
    "                   row_variable=\"batch_size\",\n",
    "                   column_variable=\"n_of_batches\",\n",
    "                   annotation_variable= \"Bandwidth(Gbps)\",\n",
    "                   annotation_only_for_line_groups=[\"TopologicalPriorityScheduler:Preemptive\"],\n",
    "                   annotation_step=5,\n",
    "                   label_length=float(\"inf\"),\n",
    "                   subplot_size=(8,6)\n",
    "                  )\n",
    "    file.savefig(f)"
   ]
  },
  {
   "cell_type": "code",
   "execution_count": null,
   "metadata": {
    "ExecuteTime": {
     "end_time": "2019-07-09T12:19:10.296736Z",
     "start_time": "2019-07-09T12:19:06.320Z"
    },
    "scrolled": false
   },
   "outputs": [],
   "source": [
    "for y in targets:\n",
    "    f = line_plot_grid(summary[\"results\"], title=\"{}_{}\".format(file_prefix, y), save=False,\n",
    "                   x=\"batch_size\",\n",
    "                   y=y,\n",
    "                   line_variable=(\"network_scheduler\"),\n",
    "                   row_variable=(\"Bandwidth(Gbps)\", [\"0.005\",\"0.050\", \"0.100\",\"0.150\", \"0.200\",\"0.250\",\"0.300\"]),\n",
    "                   column_variable=\"n_of_batches\",\n",
    "                   label_length=float(\"inf\"),\n",
    "                   subplot_size=(8,6)\n",
    "                )\n",
    "    file.savefig(f)\n",
    "# for y in targets:\n",
    "#     f = line_plot_grid(summary[\"results\"], title=\"{}_{}\".format(file_prefix, y), save=False,\n",
    "#                    x=\"n_of_batches\",\n",
    "#                    y=y,\n",
    "#                    line_variable=\"network_scheduler\",\n",
    "#                    row_variable=(\"Bandwidth(Gbps)\", [\"0.40\",\"0.60\", \"0.80\",\"1.00\", \"1.20\",\"1.40\"]),\n",
    "#                    column_variable=\"batch_size\",\n",
    "#                    label_length=float(\"inf\"),\n",
    "#                    subplot_size=(8,6)\n",
    "#                 )\n",
    "#     file.savefig(f)"
   ]
  },
  {
   "cell_type": "code",
   "execution_count": null,
   "metadata": {
    "ExecuteTime": {
     "end_time": "2019-07-09T12:19:10.297838Z",
     "start_time": "2019-07-09T12:19:06.321Z"
    }
   },
   "outputs": [],
   "source": [
    "file.close()"
   ]
  },
  {
   "cell_type": "code",
   "execution_count": null,
   "metadata": {},
   "outputs": [],
   "source": []
  }
 ],
 "metadata": {
  "hide_input": false,
  "kernelspec": {
   "display_name": "Python 3",
   "language": "python",
   "name": "python3"
  },
  "language_info": {
   "codemirror_mode": {
    "name": "ipython",
    "version": 3
   },
   "file_extension": ".py",
   "mimetype": "text/x-python",
   "name": "python",
   "nbconvert_exporter": "python",
   "pygments_lexer": "ipython3",
   "version": "3.7.3"
  },
  "varInspector": {
   "cols": {
    "lenName": 16,
    "lenType": 16,
    "lenVar": 40
   },
   "kernels_config": {
    "python": {
     "delete_cmd_postfix": "",
     "delete_cmd_prefix": "del ",
     "library": "var_list.py",
     "varRefreshCmd": "print(var_dic_list())"
    },
    "r": {
     "delete_cmd_postfix": ") ",
     "delete_cmd_prefix": "rm(",
     "library": "var_list.r",
     "varRefreshCmd": "cat(var_dic_list()) "
    }
   },
   "oldHeight": 649.6,
   "position": {
    "height": "40px",
    "left": "1614.4px",
    "right": "20px",
    "top": "120px",
    "width": "350px"
   },
   "types_to_exclude": [
    "module",
    "function",
    "builtin_function_or_method",
    "instance",
    "_Feature"
   ],
   "varInspector_section_display": "none",
   "window_display": false
  }
 },
 "nbformat": 4,
 "nbformat_minor": 2
}
