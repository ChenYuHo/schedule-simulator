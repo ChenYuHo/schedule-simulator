{
 "cells": [
  {
   "cell_type": "markdown",
   "metadata": {},
   "source": [
    "# Visualizing the results of schedulers simulation"
   ]
  },
  {
   "cell_type": "markdown",
   "metadata": {},
   "source": [
    "## Define needed functions and variables"
   ]
  },
  {
   "cell_type": "code",
   "execution_count": 1,
   "metadata": {
    "ExecuteTime": {
     "end_time": "2019-07-11T11:38:29.418336Z",
     "start_time": "2019-07-11T11:38:28.476253Z"
    },
    "hide_input": false
   },
   "outputs": [],
   "source": [
    "import matplotlib.pyplot as plt\n",
    "import sys\n",
    "import json\n",
    "import numpy as np\n",
    "import numpy.random as random\n",
    "import itertools\n",
    "sys.path.append('../')  # Include parent directory in module search\n",
    "sys.path.append('../../')\n",
    "from schedule_simulator_core.core import Distribution\n",
    "from schedule_simulator_core.simulation_presets import GpuNetworkSim\n",
    "from schedule_simulator_core.schedulers import FIFOScheduler, TopologicalPriorityScheduler\n",
    "from schedule_simulator_core.DAGs import serialize_dag, deserialize_dag, HomogeneousLinearDAG, \\\n",
    "LinearDag, LayerFactory\n",
    "from model_extraction.keras_model_extractor import apply_timing_profile_to_dag, keras_model_to_DAG"
   ]
  },
  {
   "cell_type": "markdown",
   "metadata": {},
   "source": [
    "#### Define schedulers"
   ]
  },
  {
   "cell_type": "code",
   "execution_count": 2,
   "metadata": {
    "ExecuteTime": {
     "end_time": "2019-07-11T11:38:29.445167Z",
     "start_time": "2019-07-11T11:38:29.443419Z"
    }
   },
   "outputs": [],
   "source": [
    "schedulers = [FIFOScheduler(), TopologicalPriorityScheduler(preemptive=False),\n",
    "              TopologicalPriorityScheduler(preemptive=True)]"
   ]
  },
  {
   "cell_type": "markdown",
   "metadata": {},
   "source": [
    "#### Define custom metrics"
   ]
  },
  {
   "cell_type": "code",
   "execution_count": 3,
   "metadata": {
    "ExecuteTime": {
     "end_time": "2019-07-11T11:38:30.398380Z",
     "start_time": "2019-07-11T11:38:30.392052Z"
    }
   },
   "outputs": [],
   "source": [
    "def comp_to_comm_ratio(results):\n",
    "    \"\"\"\n",
    "    The total computational units executed / total communication units executed in all of the simulation.\n",
    "    This is dependent on the dag as well as the number of batches.\n",
    "    It is also dependent on the rates however we are making them a constant 1 for now\n",
    "    \"\"\"\n",
    "    return list((np.array(results[\"comp_units.sum\"]) * np.array(results[\"batch_size\"]))\n",
    "           / np.array(results[\"comm_units.sum\"]))\n",
    "\n",
    "def normalize_over(results, stat_to_normalize, grouping_stat, reference_grouping_stat_value, reverse=False):\n",
    "    grouping_stat_indices = dict()\n",
    "    for i, grouping_stat_value in enumerate(results[grouping_stat]):\n",
    "        if grouping_stat_value in grouping_stat_indices:\n",
    "            grouping_stat_indices[grouping_stat_value].append(i)\n",
    "        else:\n",
    "            grouping_stat_indices[grouping_stat_value] = [i]\n",
    "    reference_indices = grouping_stat_indices[reference_grouping_stat_value]\n",
    "    normalized_stat = [0 for _ in range(len(results[stat_to_normalize]))]\n",
    "    for group_indices in grouping_stat_indices.values():\n",
    "        for i, ii in enumerate(group_indices):\n",
    "            if reverse:\n",
    "                normalized_stat[ii] = results[stat_to_normalize][reference_indices[i]] / results[stat_to_normalize][ii]\n",
    "            else:\n",
    "                normalized_stat[ii] = results[stat_to_normalize][ii] / results[stat_to_normalize][reference_indices[i]]\n",
    "    return normalized_stat\n",
    "\n",
    "def network_scheduler_speedup_over_fifo(results):\n",
    "    \"\"\"\n",
    "    Total time of fifo scheduler / total time of other scheduler\n",
    "    \"\"\"\n",
    "    return normalize_over(results, \"total_time_steps\", \"network_scheduler\", \"FIFOScheduler\", reverse=True)\n",
    "\n",
    "def format_variable(results, variable_name, format_str):\n",
    "    formatted_variable = list()\n",
    "    for value in results[variable_name]:\n",
    "        formatted_variable.append(format_str.format(value))\n",
    "    return formatted_variable"
   ]
  },
  {
   "cell_type": "markdown",
   "metadata": {
    "ExecuteTime": {
     "end_time": "2019-07-01T12:16:33.351574Z",
     "start_time": "2019-07-01T12:16:33.348331Z"
    }
   },
   "source": [
    "#### Visualization function"
   ]
  },
  {
   "cell_type": "code",
   "execution_count": null,
   "metadata": {},
   "outputs": [],
   "source": [
    "\"\"\"\n",
    "This block tries to make a generic grid plot function.\n",
    "It is still under development so do not use it.\n",
    "\"\"\"\n",
    "\n",
    "def group_results_by(results, variables_list):\n",
    "    \"\"\"\n",
    "    :param results: The results dictionary.\n",
    "    :param variables_list: A list of results keys that will be used to group. You can also specify a (key, [values])\n",
    "    tuple instead of just the key to indicate that you only want those values to create groups.\n",
    "    :return: dict(key=group tuple, value=a subset of the results dictionary values that belong to\n",
    "    this group. the format of the results dict stays the same. This means that a group result of this function\n",
    "    can be fed again to the same function to further group the data.\n",
    "    \"\"\"\n",
    "    groups = dict()\n",
    "    # Add prespecified groups if they exist\n",
    "    group_variables_prespecified_groups = dict()\n",
    "    for i, variable in enumerate(variables_list):\n",
    "        if isinstance(variable, tuple):\n",
    "            # Did we get a tuple with an already specified list of groups ?\n",
    "            groups[variable[0]] = tuple(variable[1])\n",
    "            variables_list[i] = variable[0]\n",
    "    # Generate variable groups if they haven't already been specified\n",
    "    none_i = 0\n",
    "    for variable in variables_list:\n",
    "        # If key is already in groups that means a prespecified group was passed no need to generate\n",
    "        if variable in groups:\n",
    "            continue\n",
    "        groups[variable] = set()\n",
    "        for value in results[variable]:\n",
    "            groups[variable].add(value)\n",
    "        groups[variable] = list(groups[variable])\n",
    "        groups[variable].sort()\n",
    "        groups[variable] = tuple(groups[variable])\n",
    "    # Generate all possible combinations of the above groups\n",
    "    groups_combinations = list(itertools.product(*groups.values()))\n",
    "    # Add each record to its respected group\n",
    "    grouped_results = dict()\n",
    "    for combination in groups_combinations:\n",
    "        template = dict()\n",
    "        for key in results.keys():\n",
    "            template[key] = list()\n",
    "        grouped_results[(tuple(variables_list), combination)] = template\n",
    "    for record_i in range(len(results.values().__iter__().__next__())):\n",
    "        group = list()\n",
    "        for group_variable in variables_list:\n",
    "            group.append(results[group_variable][record_i])\n",
    "        # Do we want to record this group ?\n",
    "        group_key = tuple(group)\n",
    "        if (tuple(variables_list), group_key) in grouped_results:\n",
    "            for key in results.keys():\n",
    "                grouped_results[(tuple(variables_list), group_key)][key].append(results[key][record_i])\n",
    "    return grouped_results\n",
    "\n",
    "\n",
    "def plot_grid(results, plotting_function, plotting_function_args, row_variable=None, column_variable=None,\n",
    "              label_length=20, subplot_size=None, title=None, save=False):\n",
    "    if subplot_size is None:\n",
    "        subplot_size = (5, 5)\n",
    "    figure = None\n",
    "    subplot_i = 1\n",
    "    if column_variable is None:\n",
    "        column_groups = {None: results}\n",
    "    else:\n",
    "        column_groups = group_results_by(results, [column_variable])\n",
    "    for column_group, column_data in column_groups.items():\n",
    "        if row_variable is None:\n",
    "            row_groups = {None: results}\n",
    "        else:\n",
    "            row_groups = group_results_by(column_data, [row_variable])\n",
    "        if figure is None:\n",
    "            figsize = subplot_size[0] * len(row_groups), subplot_size[1] * len(column_groups)\n",
    "            figure = plt.figure(figsize=figsize)\n",
    "        for row_group, subplot_data in row_groups.items():\n",
    "            print(\"Col\", column_group)\n",
    "            print(\"Row\", row_group)\n",
    "            plt.subplot(len(column_groups), len(row_groups), subplot_i)\n",
    "            sub_title = \"\"\n",
    "            if row_group is not None:\n",
    "                sub_title += \"{}: {} \".format(\n",
    "                    trim(row_group[0][0], label_length // 2),\n",
    "                    trim(row_group[1][0], label_length // 2))\n",
    "            if column_group is not None:\n",
    "                sub_title += \"{}: {} \".format(\n",
    "                    trim(column_group[0][0], label_length // 2),\n",
    "                    trim(column_group[1][0], label_length // 2))\n",
    "            plt.title(sub_title)\n",
    "            plotting_function(subplot_data, **plotting_function_args)\n",
    "            subplot_i += 1\n",
    "    if title is not None:\n",
    "        plt.suptitle(title)\n",
    "    if save:\n",
    "        plt.savefig(\"{}.png\".format(title))\n",
    "    return figure\n",
    "\n",
    "def violin_plot(results, x, y):\n",
    "    \"\"\"\n",
    "    This method plots the distributions of a $list$ variable y and how it changes with x\n",
    "    \"\"\"\n",
    "    fig = plt.figure()\n",
    "    # Add 0 to empty lists so that they are parsed\n",
    "    ydata = list()\n",
    "    for li in results[y]:\n",
    "        if len(li) == 0:\n",
    "            ydata.append([0])\n",
    "        else:\n",
    "            ydata.append(li)\n",
    "    plt.violinplot(ydata, positions=results[x])\n",
    "    return fig\n",
    "\n",
    "def line_plot(results, x, y,line_variable=None,\n",
    "              annotation_variable=None, annotation_only_for_line_groups=None, annotation_step=1):\n",
    "    pass\n",
    "\n",
    "violin_plot_args = dict(x=\"comm_units_scaling_rate\", y=\"$list$forward_pass_gaps_durations\")\n",
    "b = plot_grid(summary[\"results\"], violin_plot, violin_plot_args, row_variable=\"network_scheduler\",\n",
    "              column_variable=\"comm_units_scaling_rate\")"
   ]
  },
  {
   "cell_type": "code",
   "execution_count": 5,
   "metadata": {
    "ExecuteTime": {
     "end_time": "2019-07-11T11:38:33.471508Z",
     "start_time": "2019-07-11T11:38:33.434666Z"
    }
   },
   "outputs": [],
   "source": [
    "from schedule_simulator_core.utils import trim\n",
    "def line_plot_grid(results, x, y, line_variable=None, row_variable=None, column_variable=None,\n",
    "                   annotation_variable=None, annotation_only_for_line_groups=None, annotation_step=1,\n",
    "                   title=None, save=False, subplot_size=None, label_length=20):\n",
    "    \"\"\"\n",
    "    This method helps visualize up to 6 variables at once using a simple grid of line_plots.\n",
    "    :param results: The simulation group results dictionary. Should be in the format of\n",
    "    dict(key=variable_name, value=list_of_variable_values_in_all_simulations)\n",
    "    :param x: the variable name to represent on the x axis\n",
    "    :param y: the variable name to represent on the y axis\n",
    "    :param annotation_variable: The variable name to annotate the x,y points with\n",
    "    :param line_variable: The variable name to use to differentiate between different lines with\n",
    "    or None to plot all data using one line. Should be used with discrete variables\n",
    "    :param row_variable: The variable name to use to differentiate between different subplots in a row\n",
    "    or None to plot all data using one row. Should be used with discrete variables\n",
    "    :param column_variable: The variable name to use to differentiate between different subplots in a column\n",
    "    or None to plot all data using one column. Should be used with discrete variables\n",
    "    Basically the line,row and column variables are used to create groups of data which is why they should be\n",
    "    discrete. There is no current support for grouping continuous data so if they are passed a continues\n",
    "    variable, each value will be treated as its own group. The three variables can also be passed a tuple\n",
    "    (variable_name, [list_of_values]) to only plot specific groups or specific values of that variable.\n",
    "    :param annotation_only_for_line_values: A list of the line groups that we should annotate. If set to None\n",
    "    then all line groups will be annotated\n",
    "    :param annotation_step: Should we annotate each xy point? or should we skip some?\n",
    "    :param title: The title of the graph displayed above\n",
    "    :param save: Whether we should save this plot to a file or not\n",
    "    :param subplot_size: The size in (width, height) of a single subplot (cell) in the grid\n",
    "    \"\"\"\n",
    "    group_variables = dict(r=row_variable, c=column_variable, l=line_variable)\n",
    "    groups = dict()\n",
    "    # Add prespecified groups if they exist\n",
    "    group_variables_prespecified_groups = dict()\n",
    "    for key,value in group_variables.items():\n",
    "        if isinstance(value, tuple):\n",
    "            # Did we get a tuple with an already specified list of groups ?\n",
    "            groups[key] = tuple(value[1])\n",
    "            group_variables[key] = value[0]\n",
    "    # Generate variable groups if they haven't already been specified\n",
    "    for key,value in group_variables.items():\n",
    "        # If key is already in groups that means a prespecified group was passed no need to generate\n",
    "        if key in groups:\n",
    "            continue\n",
    "        # If value is None then we do not want to generate groups for this variable\n",
    "        if value is None:\n",
    "            groups[key] = (None,)\n",
    "            continue\n",
    "        groups[key] = set()\n",
    "        for value in results[value]:\n",
    "            groups[key].add(value)\n",
    "        groups[key] = list(groups[key])\n",
    "        groups[key].sort()\n",
    "        groups[key] = tuple(groups[key])\n",
    "    # Generate all possible combinations of the above groups\n",
    "    groups_combinations = list(itertools.product(groups[\"r\"], groups[\"c\"], groups[\"l\"]))\n",
    "    results_grouped_indices = dict()\n",
    "    for combination in groups_combinations:\n",
    "        results_grouped_indices[combination] = list()\n",
    "    # Add each record index to its respected group\n",
    "    for i in range(len(results[x])):\n",
    "        group = list()\n",
    "        for group_variable in group_variables.values():\n",
    "            if group_variable is None:\n",
    "                group.append(None)\n",
    "            else:\n",
    "                group.append(results[group_variable][i])\n",
    "        # Do we want to record this group ?\n",
    "        group_key = tuple(group)\n",
    "        if group_key in results_grouped_indices:\n",
    "            results_grouped_indices[group_key].append(i)\n",
    "    # Start plotting\n",
    "    if subplot_size is None:\n",
    "        subplot_size = (5,5)\n",
    "    figsize = subplot_size[0]*len(groups[\"r\"]), subplot_size[1]*len(groups[\"c\"])\n",
    "    figure = plt.figure(figsize=figsize)\n",
    "    subplot_i = 1\n",
    "    for column_group in groups[\"c\"]:\n",
    "        for row_group in groups[\"r\"]:\n",
    "            plt.subplot(len(groups[\"c\"]), len(groups[\"r\"]), subplot_i)\n",
    "            sub_title = \"\"\n",
    "            if row_group is not None:\n",
    "                sub_title += \"{}: {} \".format(\n",
    "                    trim(group_variables[\"r\"],label_length//2),\n",
    "                    trim(row_group,label_length//2))\n",
    "            if column_group is not None:\n",
    "                sub_title += \"{}: {} \".format(\n",
    "                    trim(group_variables[\"c\"],label_length//2),\n",
    "                    trim(column_group,label_length//2))\n",
    "            plt.title(sub_title)\n",
    "            has_annotated = False\n",
    "            for line_group in groups[\"l\"]:\n",
    "                # We want to get all x,y data that matches the current row,column,line group\n",
    "                filtered_x = [results[x][record_i] for record_i in \n",
    "                              results_grouped_indices[(row_group, column_group, line_group)]]\n",
    "                filtered_y = [results[y][record_i] for record_i in \n",
    "                              results_grouped_indices[(row_group, column_group, line_group)]]\n",
    "                plt.plot(filtered_x, filtered_y, marker=\"o\", label=trim(line_group,label_length))\n",
    "                if annotation_variable is not None and \\\n",
    "                (annotation_only_for_line_groups is None or line_group in annotation_only_for_line_groups):\n",
    "                    filtered_annotations = [results[annotation_variable][record_i] for record_i in \n",
    "                                            results_grouped_indices[(row_group, column_group, line_group)]]\n",
    "                    for i in range(0, len(filtered_annotations), annotation_step):\n",
    "                        plt.annotate(filtered_annotations[i], (filtered_x[i], filtered_y[i]))\n",
    "                    has_annotated = True\n",
    "            if has_annotated:\n",
    "                plt.plot([], [], ' ', label=trim(\"Annot: {}\".format(annotation_variable), label_length))\n",
    "            if line_group is not None or has_annotated:\n",
    "                plt.legend()\n",
    "            plt.xlabel(x)\n",
    "            plt.ylabel(y)\n",
    "            subplot_i += 1\n",
    "    if title is not None:\n",
    "        plt.suptitle(title)\n",
    "    if save:\n",
    "        plt.savefig(\"{}.png\".format(title))\n",
    "    return figure"
   ]
  },
  {
   "cell_type": "code",
   "execution_count": 21,
   "metadata": {},
   "outputs": [],
   "source": [
    "def violin_plot_grid(results, x, y, row_variable=None, column_variable=None, bins=None,\n",
    "                     title=None, save=False, subplot_size=None, label_length=20):\n",
    "    group_variables = dict(r=row_variable, c=column_variable)\n",
    "    groups = dict()\n",
    "    # Add prespecified groups if they exist\n",
    "    group_variables_prespecified_groups = dict()\n",
    "    for key,value in group_variables.items():\n",
    "        if isinstance(value, tuple):\n",
    "            # Did we get a tuple with an already specified list of groups ?\n",
    "            groups[key] = tuple(value[1])\n",
    "            group_variables[key] = value[0]\n",
    "    # Generate variable groups if they haven't already been specified\n",
    "    for key,value in group_variables.items():\n",
    "        # If key is already in groups that means a prespecified group was passed no need to generate\n",
    "        if key in groups:\n",
    "            continue\n",
    "        # If value is None then we do not want to generate groups for this variable\n",
    "        if value is None:\n",
    "            groups[key] = (None,)\n",
    "            continue\n",
    "        groups[key] = set()\n",
    "        for value in results[value]:\n",
    "            groups[key].add(value)\n",
    "        groups[key] = list(groups[key])\n",
    "        groups[key].sort()\n",
    "        groups[key] = tuple(groups[key])\n",
    "    # Generate all possible combinations of the above groups\n",
    "    groups_combinations = list(itertools.product(groups[\"r\"], groups[\"c\"]))\n",
    "    results_grouped_indices = dict()\n",
    "    for combination in groups_combinations:\n",
    "        results_grouped_indices[combination] = list()\n",
    "    # Add each record index to its respected group\n",
    "    for i in range(len(results[x])):\n",
    "        group = list()\n",
    "        for group_variable in group_variables.values():\n",
    "            if group_variable is None:\n",
    "                group.append(None)\n",
    "            else:\n",
    "                group.append(results[group_variable][i])\n",
    "        # Do we want to record this group ?\n",
    "        group_key = tuple(group)\n",
    "        if group_key in results_grouped_indices:\n",
    "            results_grouped_indices[group_key].append(i)\n",
    "    # Start plotting\n",
    "    if subplot_size is None:\n",
    "        subplot_size = (5,5)\n",
    "    figsize = subplot_size[0]*len(groups[\"r\"]), subplot_size[1]*len(groups[\"c\"])\n",
    "    figure = plt.figure(figsize=figsize)\n",
    "    subplot_i = 1\n",
    "    for column_group in groups[\"c\"]:\n",
    "        for row_group in groups[\"r\"]:\n",
    "            plt.subplot(len(groups[\"c\"]), len(groups[\"r\"]), subplot_i)\n",
    "            sub_title = \"\"\n",
    "            if row_group is not None:\n",
    "                sub_title += \"{}: {} \".format(\n",
    "                    trim(group_variables[\"r\"],label_length//2),\n",
    "                    trim(row_group,label_length//2))\n",
    "            if column_group is not None:\n",
    "                sub_title += \"{}: {} \".format(\n",
    "                    trim(group_variables[\"c\"],label_length//2),\n",
    "                    trim(column_group,label_length//2))\n",
    "            plt.title(sub_title)\n",
    "            # We want to get all x,y data that matches the current row,column,line group\n",
    "            filtered_x = [results[x][record_i] for record_i in \n",
    "                          results_grouped_indices[(row_group, column_group)]]\n",
    "            filtered_y = [results[y][record_i] for record_i in \n",
    "                          results_grouped_indices[(row_group, column_group)]]\n",
    "            # Add 0 to empty lists so that they are parsed\n",
    "            ydata = list()\n",
    "            for li in filtered_y:\n",
    "                if len(li) == 0:\n",
    "                    ydata.append([0])\n",
    "                else:\n",
    "                    ydata.append(li)\n",
    "            plt.violinplot(ydata, positions=filtered_x)\n",
    "            plt.xlabel(x)\n",
    "            plt.ylabel(y)\n",
    "            subplot_i += 1\n",
    "    if title is not None:\n",
    "        plt.suptitle(title)\n",
    "    if save:\n",
    "        plt.savefig(\"{}.png\".format(title))\n",
    "    return figure"
   ]
  },
  {
   "cell_type": "markdown",
   "metadata": {},
   "source": [
    "## VGG16 simulation\n",
    "\n",
    "Run simulation"
   ]
  },
  {
   "cell_type": "code",
   "execution_count": 5,
   "metadata": {
    "ExecuteTime": {
     "end_time": "2019-07-09T12:32:56.835985Z",
     "start_time": "2019-07-09T12:32:36.406659Z"
    },
    "scrolled": false
   },
   "outputs": [
    {
     "name": "stdout",
     "output_type": "stream",
     "text": [
      "Resolution: 5000.0\n",
      "Resolution inflicted zeros: fp_units: 0.00% bp_units: 0.00% comm_units: 5.29%\n",
      "Constant arguments: {'dag', 'n_of_batches', 'gpu_scheduler', 'gpu_rate'}\n",
      "Variable arguments: {'batch_size', 'network_rate', 'network_scheduler'}\n",
      "----------------------------------------------------------------------------------------------------\n",
      "Simulations Finished: 360/360\n",
      "pid                 : 17956      12236      248        3136       16760      16564      5184       10416      \n",
      "sim_index           : 347        355        350        354        359        358        357        351        \n",
      "sims_finished       : 47         46         47         44         46         41         45         44         \n",
      "gpu_rate            : 1          1          1          1          1          1          1          1          \n",
      "network_rate        : 0.290000.. 0.3        0.3        0.3        0.3        0.3        0.3        0.3        \n",
      "gpu_scheduler       : FIFOSche.. FIFOSche.. FIFOSche.. FIFOSche.. FIFOSche.. FIFOSche.. FIFOSche.. FIFOSche.. \n",
      "network_scheduler   : Topologi.. Topologi.. FIFOSche.. Topologi.. Topologi.. Topologi.. Topologi.. FIFOSche.. \n",
      "dag                 : {'name':.. {'name':.. {'name':.. {'name':.. {'name':.. {'name':.. {'name':.. {'name':.. \n",
      "batch_size          : 32         32         16         16         32         16         4          32         \n",
      "n_of_batches        : 8          8          8          8          8          8          8          8          \n",
      "pid[7756] Main process is saving and returning results\n"
     ]
    }
   ],
   "source": [
    "# Load VGG16 Dag\n",
    "with open(\"../model_extraction/dags/VGG16.dag\") as dag_file:\n",
    "    base_dag = deserialize_dag(dag_file.read())\n",
    "\n",
    "bandwidths = list(np.arange(0.01, 0.31, 0.01))\n",
    "summary = GpuNetworkSim.run_group(gpu_rate=1,\n",
    "                                  network_rate= bandwidths,\n",
    "                                  gpu_scheduler=FIFOScheduler(),\n",
    "                                  dag=base_dag,\n",
    "                                  network_scheduler=schedulers,\n",
    "                                  batch_size=[1,4,16,32],\n",
    "                                  n_of_batches=8,\n",
    "                                  resolution=5e3,\n",
    "                                  resolution_warning_threshold = 0.06,\n",
    "                                  number_of_processes=None,\n",
    "                                 )"
   ]
  },
  {
   "cell_type": "markdown",
   "metadata": {},
   "source": [
    "compute custom metrics"
   ]
  },
  {
   "cell_type": "code",
   "execution_count": 15,
   "metadata": {
    "ExecuteTime": {
     "end_time": "2019-07-11T11:39:17.416103Z",
     "start_time": "2019-07-11T11:39:17.408937Z"
    },
    "scrolled": false
   },
   "outputs": [],
   "source": [
    "summary[\"results\"][\"comp_to_comm_ratio\"] = comp_to_comm_ratio(summary[\"results\"])\n",
    "summary[\"results\"][\"speedup_over_fifo\"] = network_scheduler_speedup_over_fifo(summary[\"results\"])"
   ]
  },
  {
   "cell_type": "code",
   "execution_count": 16,
   "metadata": {
    "ExecuteTime": {
     "end_time": "2019-07-11T11:39:17.725519Z",
     "start_time": "2019-07-11T11:39:17.718094Z"
    }
   },
   "outputs": [],
   "source": [
    "summary[\"results\"][\"Bandwidth(Gbps)\"] = format_variable(summary[\"results\"],\"comm_units_scaling_rate\", \"{:.3f}\")"
   ]
  },
  {
   "cell_type": "markdown",
   "metadata": {},
   "source": [
    "File IO"
   ]
  },
  {
   "cell_type": "code",
   "execution_count": 13,
   "metadata": {
    "ExecuteTime": {
     "end_time": "2019-07-09T12:19:10.282130Z",
     "start_time": "2019-07-09T12:19:06.314Z"
    }
   },
   "outputs": [],
   "source": [
    "# Load simulations results from file if it exists already.\n",
    "with open(\"../simulations/GpuNetworkSims/VGG16_07-11-12-15.sims.json\") as file:\n",
    "    summary = json.load(file)"
   ]
  },
  {
   "cell_type": "code",
   "execution_count": 11,
   "metadata": {
    "ExecuteTime": {
     "end_time": "2019-07-11T11:09:58.353559Z",
     "start_time": "2019-07-11T11:09:58.348398Z"
    }
   },
   "outputs": [],
   "source": [
    "targets = [\"gpu_util\",\"net_util\", \"speedup_over_fifo\", \"total_time_steps\"]"
   ]
  },
  {
   "cell_type": "markdown",
   "metadata": {},
   "source": [
    "Visualize vs comp_comm_ratio"
   ]
  },
  {
   "cell_type": "code",
   "execution_count": null,
   "metadata": {
    "ExecuteTime": {
     "end_time": "2019-07-11T11:11:50.133459Z",
     "start_time": "2019-07-11T11:11:49.377295Z"
    }
   },
   "outputs": [],
   "source": [
    "from matplotlib.backends.backend_pdf import PdfPages\n",
    "file = PdfPages(\"{}_visualizaton.pdf\".format(\"VGG16\"))\n",
    "for y in targets:\n",
    "    f = line_plot_grid(summary[\"results\"], title=\"{}_{}\".format(\"VGG16\", y), save=False,\n",
    "                   x=\"comp_to_comm_ratio\",\n",
    "                   y=y,\n",
    "                   line_variable=\"network_scheduler\",\n",
    "                   row_variable=\"batch_size\",\n",
    "                   column_variable=\"n_of_batches\",\n",
    "                   annotation_variable= \"Bandwidth(Gbps)\",\n",
    "                   annotation_only_for_line_groups=[\"TopologicalPriorityScheduler:Preemptive\"],\n",
    "                   annotation_step=5,\n",
    "                   label_length=float(\"inf\"),\n",
    "                   subplot_size=(8,6)\n",
    "                  )\n",
    "    file.savefig(f)\n",
    "f = violin_plot_grid(summary[\"results\"], x=\"comp_to_comm_ratio\", y=\"$list$forward_pass_gaps_durations\",\n",
    "                     row_variable=\"network_scheduler\", column_variable=\"comm_units_scaling_rate\")\n",
    "file.savefig(f)\n",
    "file.close()"
   ]
  }
 ],
 "metadata": {
  "hide_input": false,
  "kernelspec": {
   "display_name": "Python 3",
   "language": "python",
   "name": "python3"
  },
  "language_info": {
   "codemirror_mode": {
    "name": "ipython",
    "version": 3
   },
   "file_extension": ".py",
   "mimetype": "text/x-python",
   "name": "python",
   "nbconvert_exporter": "python",
   "pygments_lexer": "ipython3",
   "version": "3.7.3"
  },
  "varInspector": {
   "cols": {
    "lenName": 16,
    "lenType": 16,
    "lenVar": 40
   },
   "kernels_config": {
    "python": {
     "delete_cmd_postfix": "",
     "delete_cmd_prefix": "del ",
     "library": "var_list.py",
     "varRefreshCmd": "print(var_dic_list())"
    },
    "r": {
     "delete_cmd_postfix": ") ",
     "delete_cmd_prefix": "rm(",
     "library": "var_list.r",
     "varRefreshCmd": "cat(var_dic_list()) "
    }
   },
   "oldHeight": 649.6,
   "position": {
    "height": "40px",
    "left": "1614.4px",
    "right": "20px",
    "top": "120px",
    "width": "350px"
   },
   "types_to_exclude": [
    "module",
    "function",
    "builtin_function_or_method",
    "instance",
    "_Feature"
   ],
   "varInspector_section_display": "none",
   "window_display": false
  }
 },
 "nbformat": 4,
 "nbformat_minor": 2
}
